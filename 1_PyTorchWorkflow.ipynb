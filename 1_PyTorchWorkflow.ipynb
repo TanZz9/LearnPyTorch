{
  "nbformat": 4,
  "nbformat_minor": 0,
  "metadata": {
    "colab": {
      "provenance": [],
      "gpuType": "T4",
      "authorship_tag": "ABX9TyMflDDBuqCK2irHweLGuF9/",
      "include_colab_link": true
    },
    "kernelspec": {
      "name": "python3",
      "display_name": "Python 3"
    },
    "language_info": {
      "name": "python"
    },
    "accelerator": "GPU"
  },
  "cells": [
    {
      "cell_type": "markdown",
      "metadata": {
        "id": "view-in-github",
        "colab_type": "text"
      },
      "source": [
        "<a href=\"https://colab.research.google.com/github/TanZz9/LearnPyTorch/blob/main/1_PyTorchWorkflow.ipynb\" target=\"_parent\"><img src=\"https://colab.research.google.com/assets/colab-badge.svg\" alt=\"Open In Colab\"/></a>"
      ]
    },
    {
      "cell_type": "markdown",
      "source": [
        "# PyTorch Workflow\n",
        "1. data (prepare or load)\n",
        "2. build model\n",
        "3. fitting the model to data(training)\n",
        "4. making predicitions and evaluting a model\n",
        "5. saving and loading a model\n",
        "6. putting it all together\n"
      ],
      "metadata": {
        "id": "Td8giuGWsmir"
      }
    },
    {
      "cell_type": "code",
      "source": [
        "import torch\n",
        "import numpy as np\n",
        "from torch import nn\n",
        "import matplotlib.pyplot as plt\n",
        "torch.__version__"
      ],
      "metadata": {
        "colab": {
          "base_uri": "https://localhost:8080/",
          "height": 35
        },
        "id": "JdLxua0Fs0MB",
        "outputId": "8153987f-73db-4599-9f69-014f660ccf55"
      },
      "execution_count": 5,
      "outputs": [
        {
          "output_type": "execute_result",
          "data": {
            "text/plain": [
              "'2.1.0+cu121'"
            ],
            "application/vnd.google.colaboratory.intrinsic+json": {
              "type": "string"
            }
          },
          "metadata": {},
          "execution_count": 5
        }
      ]
    },
    {
      "cell_type": "markdown",
      "source": [
        "## 1. Data(preparing or loading)"
      ],
      "metadata": {
        "id": "uPGJ7KVDviQZ"
      }
    },
    {
      "cell_type": "markdown",
      "source": [
        "### Use linear regression formula to make a straight line with known parameters"
      ],
      "metadata": {
        "id": "ysaYHAR4vodY"
      }
    },
    {
      "cell_type": "code",
      "source": [
        "# create known parameters\n",
        "weight = 0.7\n",
        "bias = 0.3\n",
        "\n",
        "# create\n",
        "start = 0\n",
        "end = 1\n",
        "step = 0.02\n",
        "X = torch.arange(start, end, step).unsqueeze(dim=1) # X's size is 50*1\n",
        "y = weight * X + bias\n",
        "X[:10], y[:10], len(X), len(y)"
      ],
      "metadata": {
        "colab": {
          "base_uri": "https://localhost:8080/"
        },
        "id": "dFeLKJhxyUdM",
        "outputId": "08c4854c-f7ea-4935-fbbe-4bbb8b0f8e3a"
      },
      "execution_count": 6,
      "outputs": [
        {
          "output_type": "execute_result",
          "data": {
            "text/plain": [
              "(tensor([[0.0000],\n",
              "         [0.0200],\n",
              "         [0.0400],\n",
              "         [0.0600],\n",
              "         [0.0800],\n",
              "         [0.1000],\n",
              "         [0.1200],\n",
              "         [0.1400],\n",
              "         [0.1600],\n",
              "         [0.1800]]),\n",
              " tensor([[0.3000],\n",
              "         [0.3140],\n",
              "         [0.3280],\n",
              "         [0.3420],\n",
              "         [0.3560],\n",
              "         [0.3700],\n",
              "         [0.3840],\n",
              "         [0.3980],\n",
              "         [0.4120],\n",
              "         [0.4260]]),\n",
              " 50,\n",
              " 50)"
            ]
          },
          "metadata": {},
          "execution_count": 6
        }
      ]
    },
    {
      "cell_type": "markdown",
      "source": [
        "### Splitting the data into training and testing sets"
      ],
      "metadata": {
        "id": "jZmJRkgizj11"
      }
    },
    {
      "cell_type": "code",
      "source": [
        "train_split = int(0.8 * len(X))\n",
        "X_train, y_train = X[:train_split], y[:train_split]\n",
        "X_test, y_test = X[train_split:], y[train_split:]\n",
        "len(X_train), len(X_test)"
      ],
      "metadata": {
        "colab": {
          "base_uri": "https://localhost:8080/"
        },
        "id": "NHMMkhyT0sFK",
        "outputId": "0f5c8e68-c993-4e66-ec8f-72ff83648e31"
      },
      "execution_count": 7,
      "outputs": [
        {
          "output_type": "execute_result",
          "data": {
            "text/plain": [
              "(40, 10)"
            ]
          },
          "metadata": {},
          "execution_count": 7
        }
      ]
    },
    {
      "cell_type": "markdown",
      "source": [
        "### Visualize the data"
      ],
      "metadata": {
        "id": "JrZoxDUG1bHm"
      }
    },
    {
      "cell_type": "code",
      "source": [
        "def plot_prediction(train_data=X_train,\n",
        "                    train_label=y_train,\n",
        "                    test_data=X_test,\n",
        "                    test_label=y_test,\n",
        "                    prediction=None):\n",
        "  plt.figure(figsize=(10, 7))\n",
        "\n",
        "  # plot the training data in blue\n",
        "  plt.scatter(train_data, train_label, c=\"b\", s=4, label=\"Training Data\")\n",
        "\n",
        "  # plot the testing data in green\n",
        "  plt.scatter(test_data, test_label, c=\"g\", s=4, label=\"Testing data\")\n",
        "\n",
        "  if prediction is not None:\n",
        "    # plot the prediction if they exist\n",
        "    plt.scatter(test_data, prediction, c=\"r\", s=4, label=\"Prediction\")\n",
        "\n",
        "  plt.legend(prop={\"size\":14})"
      ],
      "metadata": {
        "id": "Q3R92jEc1d3i"
      },
      "execution_count": 8,
      "outputs": []
    },
    {
      "cell_type": "code",
      "source": [
        "plot_prediction()"
      ],
      "metadata": {
        "colab": {
          "base_uri": "https://localhost:8080/",
          "height": 599
        },
        "id": "8TXahhAo1-JJ",
        "outputId": "082db2fb-20b6-4798-c132-33ec42454fb5"
      },
      "execution_count": 9,
      "outputs": [
        {
          "output_type": "display_data",
          "data": {
            "text/plain": [
              "<Figure size 1000x700 with 1 Axes>"
            ],
            "image/png": "[encoded data removed]"
          },
          "metadata": {}
        }
      ]
    },
    {
      "cell_type": "markdown",
      "source": [
        "## Module\n",
        "* Start with random values\n",
        "* Look at training data and adjust the random values to better represent (or get closed to) the ideal values\n",
        "\n",
        "How does it do so?\n",
        "\n",
        "Through two main alagorithm:\n",
        "1. Gradient descent\n",
        "2. Backpropagation"
      ],
      "metadata": {
        "id": "0Gfu4-A83wx5"
      }
    },
    {
      "cell_type": "code",
      "source": [
        "class LinearRegressionModel(nn.Module):\n",
        "  def __init__(self):\n",
        "    super().__init__()\n",
        "    self.weights = nn.Parameter(torch.randn(1,\n",
        "                                            requires_grad=True,\n",
        "                                            dtype=torch.float))\n",
        "    self.bias = nn.Parameter(torch.randn(1,\n",
        "                                         requires_grad=True,\n",
        "                                         dtype=torch.float))\n",
        "\n",
        "  # forward method to define the computation in the model\n",
        "  def forward(self, x: torch.Tensor) -> torch.Tensor:\n",
        "    return self.weights * x + self.bias # linear regression formula\n"
      ],
      "metadata": {
        "id": "d_kMrsrZ39lr"
      },
      "execution_count": 10,
      "outputs": []
    },
    {
      "cell_type": "code",
      "source": [
        "torch.manual_seed(100)\n",
        "model_0 = LinearRegressionModel()\n",
        "list(model_0.parameters())"
      ],
      "metadata": {
        "colab": {
          "base_uri": "https://localhost:8080/"
        },
        "id": "SCEJROHIDQbf",
        "outputId": "fb2df3db-dc99-4450-f8d8-044ef5e75cab"
      },
      "execution_count": 11,
      "outputs": [
        {
          "output_type": "execute_result",
          "data": {
            "text/plain": [
              "[Parameter containing:\n",
              " tensor([0.3607], requires_grad=True),\n",
              " Parameter containing:\n",
              " tensor([-0.2859], requires_grad=True)]"
            ]
          },
          "metadata": {},
          "execution_count": 11
        }
      ]
    },
    {
      "cell_type": "code",
      "source": [
        "model_0.state_dict()"
      ],
      "metadata": {
        "colab": {
          "base_uri": "https://localhost:8080/"
        },
        "id": "tup-QuAnEHX0",
        "outputId": "e6882804-ba70-4635-f0d7-a7dc9c4b6bf3"
      },
      "execution_count": 12,
      "outputs": [
        {
          "output_type": "execute_result",
          "data": {
            "text/plain": [
              "OrderedDict([('weights', tensor([0.3607])), ('bias', tensor([-0.2859]))])"
            ]
          },
          "metadata": {},
          "execution_count": 12
        }
      ]
    },
    {
      "cell_type": "code",
      "source": [
        "# make predictions with model\n",
        "with torch.inference_mode():\n",
        "  y_preds = model_0(X_test)\n",
        "\n",
        "y_preds, y_test"
      ],
      "metadata": {
        "colab": {
          "base_uri": "https://localhost:8080/"
        },
        "id": "zPqS3gZHFHzP",
        "outputId": "f2ed17cf-b250-4cd4-9062-2fb49d5658b1"
      },
      "execution_count": 13,
      "outputs": [
        {
          "output_type": "execute_result",
          "data": {
            "text/plain": [
              "(tensor([[0.0026],\n",
              "         [0.0098],\n",
              "         [0.0170],\n",
              "         [0.0242],\n",
              "         [0.0315],\n",
              "         [0.0387],\n",
              "         [0.0459],\n",
              "         [0.0531],\n",
              "         [0.0603],\n",
              "         [0.0675]]),\n",
              " tensor([[0.8600],\n",
              "         [0.8740],\n",
              "         [0.8880],\n",
              "         [0.9020],\n",
              "         [0.9160],\n",
              "         [0.9300],\n",
              "         [0.9440],\n",
              "         [0.9580],\n",
              "         [0.9720],\n",
              "         [0.9860]]))"
            ]
          },
          "metadata": {},
          "execution_count": 13
        }
      ]
    },
    {
      "cell_type": "code",
      "source": [
        "plot_prediction(prediction=y_preds)"
      ],
      "metadata": {
        "colab": {
          "base_uri": "https://localhost:8080/",
          "height": 599
        },
        "id": "Md2tD8YeF_ZD",
        "outputId": "3982f645-ea99-4234-9a10-da22d6aca3ce"
      },
      "execution_count": 14,
      "outputs": [
        {
          "output_type": "display_data",
          "data": {
            "text/plain": [
              "<Figure size 1000x700 with 1 Axes>"
            ],
            "image/png": "[encoded data removed]"
          },
          "metadata": {}
        }
      ]
    },
    {
      "cell_type": "markdown",
      "source": [
        "## Train model\n",
        "From a poor representation of the data to a better representation\n",
        "\n",
        "One way to measure how poor or how wrong your models predictions are is to use a loss function(cost function or criterion).\n",
        "\n",
        "**Loss Function**: A function to measure how wrong your models' prediction are to the ideal outputs, lower is better.\n",
        "\n",
        "**Optimizer:** Takes into account the loss of a model and adjusts the model's parameters(e.g. weight & bias)"
      ],
      "metadata": {
        "id": "lEjKJsjSd1rR"
      }
    },
    {
      "cell_type": "code",
      "source": [
        "model_0.state_dict()[\"weights\"]"
      ],
      "metadata": {
        "colab": {
          "base_uri": "https://localhost:8080/"
        },
        "id": "t3Whz4XyfRm5",
        "outputId": "21c86363-d451-401d-8a2c-9d2e408ccf7f"
      },
      "execution_count": 15,
      "outputs": [
        {
          "output_type": "execute_result",
          "data": {
            "text/plain": [
              "tensor([0.3607])"
            ]
          },
          "metadata": {},
          "execution_count": 15
        }
      ]
    },
    {
      "cell_type": "code",
      "source": [
        "# Setup a Loss funciton\n",
        "loss_fn = nn.L1Loss()\n",
        "\n",
        "# Setup a optimizer\n",
        "optimizer = torch.optim.SGD(params=model_0.parameters(),\n",
        "                            lr=0.001,\n",
        "                            ) # stochastic gradient descent"
      ],
      "metadata": {
        "id": "sGiMbOJvgrsY"
      },
      "execution_count": 16,
      "outputs": []
    },
    {
      "cell_type": "markdown",
      "source": [
        "### Build a training loop and testing loop in PyTorch\n",
        "\n",
        "A couple of things:\n",
        "0. Loop through the data\n",
        "1. Forward pass (this involves data moving through our model's forward()) to make predictions - also called forward propagation\n",
        "2. calculate the loss (compare forward pass predictions to ground truth labels)\n",
        "3. Optimizer zero grad\n",
        "4. Loss backward - move backwards through the network to calculate the gradients of each of the parameters of our models with respect to the loss(**backpropagation**)\n",
        "5. Optimizer step - use the optimizer to adjust our model's parameters to try and improve the loss(**gradient descent**)"
      ],
      "metadata": {
        "id": "o8RJo0a5gsTd"
      }
    },
    {
      "cell_type": "code",
      "source": [
        "list(model_0.parameters())"
      ],
      "metadata": {
        "colab": {
          "base_uri": "https://localhost:8080/"
        },
        "id": "GHOfcZimsUpZ",
        "outputId": "4988347b-94d5-4e5b-9b3e-fde866d11e8a"
      },
      "execution_count": 17,
      "outputs": [
        {
          "output_type": "execute_result",
          "data": {
            "text/plain": [
              "[Parameter containing:\n",
              " tensor([0.3607], requires_grad=True),\n",
              " Parameter containing:\n",
              " tensor([-0.2859], requires_grad=True)]"
            ]
          },
          "metadata": {},
          "execution_count": 17
        }
      ]
    },
    {
      "cell_type": "code",
      "source": [
        "with torch.no_grad():\n",
        "  print(list(model_0.parameters()))"
      ],
      "metadata": {
        "colab": {
          "base_uri": "https://localhost:8080/"
        },
        "id": "_0q_1p5asl3y",
        "outputId": "aa18f03a-49d2-487b-df48-1e8499a39ac5"
      },
      "execution_count": 18,
      "outputs": [
        {
          "output_type": "stream",
          "name": "stdout",
          "text": [
            "[Parameter containing:\n",
            "tensor([0.3607], requires_grad=True), Parameter containing:\n",
            "tensor([-0.2859], requires_grad=True)]\n"
          ]
        }
      ]
    },
    {
      "cell_type": "code",
      "source": [
        "epoch_count = []\n",
        "loss_values = []\n",
        "test_loss_values = []\n",
        "# An epoch is one loop through the data...\n",
        "epochs = 2000\n",
        "\n",
        "# loop through the data\n",
        "for epoch in range(epochs):\n",
        "  # Set the model to training mode\n",
        "  model_0.train()\n",
        "\n",
        "  # 1. Forward pass on train data using the forward() method inside\n",
        "  y_pred = model_0(X_train)\n",
        "\n",
        "  # 2. Calculate the loss\n",
        "  loss = loss_fn(y_pred, y_train)\n",
        "  # print(f\"loss: {loss}\")\n",
        "\n",
        "  # 3. Optimizer zero grad (they accumulate by default)\n",
        "  optimizer.zero_grad()\n",
        "\n",
        "  # 4. Perform backpropagation on the loss with respect to the parameters of the model\n",
        "  loss.backward()\n",
        "\n",
        "  # 5. Step the optimizer (gradient descent)\n",
        "  optimizer.step()\n",
        "\n",
        "  # turn off the gradient tracking\n",
        "  # Testing mode\n",
        "  model_0.eval()\n",
        "  with torch.inference_mode():\n",
        "    # 1. Forward pass\n",
        "    test_preds = model_0(X_test)\n",
        "\n",
        "    # 2. Calculate the test loss\n",
        "    test_loss = loss_fn(test_preds, y_test)\n",
        "\n",
        "    if epoch % 50 == 0:\n",
        "      print(f\"Epoch: {epoch} | loss: {loss} | Test loss: {test_loss}\")\n",
        "\n",
        "      # print out model state_dict()\n",
        "      print(model_0.state_dict())\n",
        "\n",
        "      epoch_count.append(epoch)\n",
        "      loss_values.append(loss)\n",
        "      test_loss_values.append(test_loss)"
      ],
      "metadata": {
        "id": "AlBMp03Tgs6H",
        "colab": {
          "base_uri": "https://localhost:8080/"
        },
        "outputId": "51e6f045-3279-4633-a2b4-1444f3167cd9"
      },
      "execution_count": 19,
      "outputs": [
        {
          "output_type": "stream",
          "name": "stdout",
          "text": [
            "Epoch: 0 | loss: 0.7182652950286865 | Test loss: 0.8865903615951538\n",
            "OrderedDict([('weights', tensor([0.3610])), ('bias', tensor([-0.2849]))])\n",
            "Epoch: 50 | loss: 0.660660982131958 | Test loss: 0.8192359805107117\n",
            "OrderedDict([('weights', tensor([0.3805])), ('bias', tensor([-0.2349]))])\n",
            "Epoch: 100 | loss: 0.6030559539794922 | Test loss: 0.7518813014030457\n",
            "OrderedDict([('weights', tensor([0.4000])), ('bias', tensor([-0.1849]))])\n",
            "Epoch: 150 | loss: 0.5454509854316711 | Test loss: 0.6845265030860901\n",
            "OrderedDict([('weights', tensor([0.4195])), ('bias', tensor([-0.1349]))])\n",
            "Epoch: 200 | loss: 0.4878459870815277 | Test loss: 0.6171716451644897\n",
            "OrderedDict([('weights', tensor([0.4390])), ('bias', tensor([-0.0849]))])\n",
            "Epoch: 250 | loss: 0.4302411675453186 | Test loss: 0.5498169660568237\n",
            "OrderedDict([('weights', tensor([0.4585])), ('bias', tensor([-0.0349]))])\n",
            "Epoch: 300 | loss: 0.37263625860214233 | Test loss: 0.4824622571468353\n",
            "OrderedDict([('weights', tensor([0.4780])), ('bias', tensor([0.0151]))])\n",
            "Epoch: 350 | loss: 0.3150314688682556 | Test loss: 0.4151075780391693\n",
            "OrderedDict([('weights', tensor([0.4975])), ('bias', tensor([0.0651]))])\n",
            "Epoch: 400 | loss: 0.2574264705181122 | Test loss: 0.34775274991989136\n",
            "OrderedDict([('weights', tensor([0.5170])), ('bias', tensor([0.1151]))])\n",
            "Epoch: 450 | loss: 0.19982151687145233 | Test loss: 0.28039801120758057\n",
            "OrderedDict([('weights', tensor([0.5365])), ('bias', tensor([0.1651]))])\n",
            "Epoch: 500 | loss: 0.1422165334224701 | Test loss: 0.213043212890625\n",
            "OrderedDict([('weights', tensor([0.5560])), ('bias', tensor([0.2151]))])\n",
            "Epoch: 550 | loss: 0.08461180329322815 | Test loss: 0.14568862318992615\n",
            "OrderedDict([('weights', tensor([0.5755])), ('bias', tensor([0.2651]))])\n",
            "Epoch: 600 | loss: 0.03125118836760521 | Test loss: 0.08095831423997879\n",
            "OrderedDict([('weights', tensor([0.5950])), ('bias', tensor([0.3125]))])\n",
            "Epoch: 650 | loss: 0.018271788954734802 | Test loss: 0.049259088933467865\n",
            "OrderedDict([('weights', tensor([0.6104])), ('bias', tensor([0.3305]))])\n",
            "Epoch: 700 | loss: 0.015863673761487007 | Test loss: 0.03856753557920456\n",
            "OrderedDict([('weights', tensor([0.6209])), ('bias', tensor([0.3318]))])\n",
            "Epoch: 750 | loss: 0.014118599705398083 | Test loss: 0.03305768221616745\n",
            "OrderedDict([('weights', tensor([0.6299])), ('bias', tensor([0.3293]))])\n",
            "Epoch: 800 | loss: 0.012399030849337578 | Test loss: 0.028920870274305344\n",
            "OrderedDict([('weights', tensor([0.6385])), ('bias', tensor([0.3258]))])\n",
            "Epoch: 850 | loss: 0.010681381449103355 | Test loss: 0.024921352043747902\n",
            "OrderedDict([('weights', tensor([0.6470])), ('bias', tensor([0.3222]))])\n",
            "Epoch: 900 | loss: 0.008963866159319878 | Test loss: 0.020853156223893166\n",
            "OrderedDict([('weights', tensor([0.6556])), ('bias', tensor([0.3187]))])\n",
            "Epoch: 950 | loss: 0.007246905472129583 | Test loss: 0.01688799262046814\n",
            "OrderedDict([('weights', tensor([0.6641])), ('bias', tensor([0.3151]))])\n",
            "Epoch: 1000 | loss: 0.005529296584427357 | Test loss: 0.012819821015000343\n",
            "OrderedDict([('weights', tensor([0.6727])), ('bias', tensor([0.3115]))])\n",
            "Epoch: 1050 | loss: 0.0038124353159219027 | Test loss: 0.0088546397164464\n",
            "OrderedDict([('weights', tensor([0.6812])), ('bias', tensor([0.3079]))])\n",
            "Epoch: 1100 | loss: 0.002094788011163473 | Test loss: 0.004855114035308361\n",
            "OrderedDict([('weights', tensor([0.6897])), ('bias', tensor([0.3043]))])\n",
            "Epoch: 1150 | loss: 0.00037796422839164734 | Test loss: 0.0008212864631786942\n",
            "OrderedDict([('weights', tensor([0.6983])), ('bias', tensor([0.3007]))])\n",
            "Epoch: 1200 | loss: 0.00044334231643006206 | Test loss: 0.0011086941231042147\n",
            "OrderedDict([('weights', tensor([0.6992])), ('bias', tensor([0.2996]))])\n",
            "Epoch: 1250 | loss: 0.00044334231643006206 | Test loss: 0.0011086941231042147\n",
            "OrderedDict([('weights', tensor([0.6992])), ('bias', tensor([0.2996]))])\n",
            "Epoch: 1300 | loss: 0.00044334231643006206 | Test loss: 0.0011086941231042147\n",
            "OrderedDict([('weights', tensor([0.6992])), ('bias', tensor([0.2996]))])\n",
            "Epoch: 1350 | loss: 0.00044334231643006206 | Test loss: 0.0011086941231042147\n",
            "OrderedDict([('weights', tensor([0.6992])), ('bias', tensor([0.2996]))])\n",
            "Epoch: 1400 | loss: 0.00044334231643006206 | Test loss: 0.0011086941231042147\n",
            "OrderedDict([('weights', tensor([0.6992])), ('bias', tensor([0.2996]))])\n",
            "Epoch: 1450 | loss: 0.00044334231643006206 | Test loss: 0.0011086941231042147\n",
            "OrderedDict([('weights', tensor([0.6992])), ('bias', tensor([0.2996]))])\n",
            "Epoch: 1500 | loss: 0.00044334231643006206 | Test loss: 0.0011086941231042147\n",
            "OrderedDict([('weights', tensor([0.6992])), ('bias', tensor([0.2996]))])\n",
            "Epoch: 1550 | loss: 0.00044334231643006206 | Test loss: 0.0011086941231042147\n",
            "OrderedDict([('weights', tensor([0.6992])), ('bias', tensor([0.2996]))])\n",
            "Epoch: 1600 | loss: 0.00044334231643006206 | Test loss: 0.0011086941231042147\n",
            "OrderedDict([('weights', tensor([0.6992])), ('bias', tensor([0.2996]))])\n",
            "Epoch: 1650 | loss: 0.00044334231643006206 | Test loss: 0.0011086941231042147\n",
            "OrderedDict([('weights', tensor([0.6992])), ('bias', tensor([0.2996]))])\n",
            "Epoch: 1700 | loss: 0.00044334231643006206 | Test loss: 0.0011086941231042147\n",
            "OrderedDict([('weights', tensor([0.6992])), ('bias', tensor([0.2996]))])\n",
            "Epoch: 1750 | loss: 0.00044334231643006206 | Test loss: 0.0011086941231042147\n",
            "OrderedDict([('weights', tensor([0.6992])), ('bias', tensor([0.2996]))])\n",
            "Epoch: 1800 | loss: 0.00044334231643006206 | Test loss: 0.0011086941231042147\n",
            "OrderedDict([('weights', tensor([0.6992])), ('bias', tensor([0.2996]))])\n",
            "Epoch: 1850 | loss: 0.00044334231643006206 | Test loss: 0.0011086941231042147\n",
            "OrderedDict([('weights', tensor([0.6992])), ('bias', tensor([0.2996]))])\n",
            "Epoch: 1900 | loss: 0.00044334231643006206 | Test loss: 0.0011086941231042147\n",
            "OrderedDict([('weights', tensor([0.6992])), ('bias', tensor([0.2996]))])\n",
            "Epoch: 1950 | loss: 0.00044334231643006206 | Test loss: 0.0011086941231042147\n",
            "OrderedDict([('weights', tensor([0.6992])), ('bias', tensor([0.2996]))])\n"
          ]
        }
      ]
    },
    {
      "cell_type": "code",
      "source": [
        "import numpy as np\n",
        "epoch_count, np.array(torch.tensor(loss_values).cpu().numpy()), np.array(torch.tensor(test_loss_values).cpu().numpy())"
      ],
      "metadata": {
        "colab": {
          "base_uri": "https://localhost:8080/"
        },
        "id": "EXTctMSW6YBU",
        "outputId": "87cd188b-5e4d-4070-d783-496425f61806"
      },
      "execution_count": 20,
      "outputs": [
        {
          "output_type": "execute_result",
          "data": {
            "text/plain": [
              "([0,\n",
              "  50,\n",
              "  100,\n",
              "  150,\n",
              "  200,\n",
              "  250,\n",
              "  300,\n",
              "  350,\n",
              "  400,\n",
              "  450,\n",
              "  500,\n",
              "  550,\n",
              "  600,\n",
              "  650,\n",
              "  700,\n",
              "  750,\n",
              "  800,\n",
              "  850,\n",
              "  900,\n",
              "  950,\n",
              "  1000,\n",
              "  1050,\n",
              "  1100,\n",
              "  1150,\n",
              "  1200,\n",
              "  1250,\n",
              "  1300,\n",
              "  1350,\n",
              "  1400,\n",
              "  1450,\n",
              "  1500,\n",
              "  1550,\n",
              "  1600,\n",
              "  1650,\n",
              "  1700,\n",
              "  1750,\n",
              "  1800,\n",
              "  1850,\n",
              "  1900,\n",
              "  1950],\n",
              " array([7.1826530e-01, 6.6066098e-01, 6.0305595e-01, 5.4545099e-01,\n",
              "        4.8784599e-01, 4.3024117e-01, 3.7263626e-01, 3.1503147e-01,\n",
              "        2.5742647e-01, 1.9982152e-01, 1.4221653e-01, 8.4611803e-02,\n",
              "        3.1251188e-02, 1.8271789e-02, 1.5863674e-02, 1.4118600e-02,\n",
              "        1.2399031e-02, 1.0681381e-02, 8.9638662e-03, 7.2469055e-03,\n",
              "        5.5292966e-03, 3.8124353e-03, 2.0947880e-03, 3.7796423e-04,\n",
              "        4.4334232e-04, 4.4334232e-04, 4.4334232e-04, 4.4334232e-04,\n",
              "        4.4334232e-04, 4.4334232e-04, 4.4334232e-04, 4.4334232e-04,\n",
              "        4.4334232e-04, 4.4334232e-04, 4.4334232e-04, 4.4334232e-04,\n",
              "        4.4334232e-04, 4.4334232e-04, 4.4334232e-04, 4.4334232e-04],\n",
              "       dtype=float32),\n",
              " array([8.8659036e-01, 8.1923598e-01, 7.5188130e-01, 6.8452650e-01,\n",
              "        6.1717165e-01, 5.4981697e-01, 4.8246226e-01, 4.1510758e-01,\n",
              "        3.4775275e-01, 2.8039801e-01, 2.1304321e-01, 1.4568862e-01,\n",
              "        8.0958314e-02, 4.9259089e-02, 3.8567536e-02, 3.3057682e-02,\n",
              "        2.8920870e-02, 2.4921352e-02, 2.0853156e-02, 1.6887993e-02,\n",
              "        1.2819821e-02, 8.8546397e-03, 4.8551140e-03, 8.2128646e-04,\n",
              "        1.1086941e-03, 1.1086941e-03, 1.1086941e-03, 1.1086941e-03,\n",
              "        1.1086941e-03, 1.1086941e-03, 1.1086941e-03, 1.1086941e-03,\n",
              "        1.1086941e-03, 1.1086941e-03, 1.1086941e-03, 1.1086941e-03,\n",
              "        1.1086941e-03, 1.1086941e-03, 1.1086941e-03, 1.1086941e-03],\n",
              "       dtype=float32))"
            ]
          },
          "metadata": {},
          "execution_count": 20
        }
      ]
    },
    {
      "cell_type": "code",
      "source": [
        "plt.plot(epoch_count, np.array(torch.tensor(loss_values).cpu().numpy()), label=\"Train Loss\")\n",
        "plt.plot(epoch_count, np.array(torch.tensor(test_loss_values).cpu().numpy()), label=\"Test Loss\")\n",
        "plt.title(\"Training and Testing Loss Curve\")\n",
        "plt.xlabel(\"Epochs\")\n",
        "plt.ylabel(\"Loss\")\n",
        "plt.legend()"
      ],
      "metadata": {
        "colab": {
          "base_uri": "https://localhost:8080/",
          "height": 489
        },
        "id": "ucjobR0H7RRQ",
        "outputId": "f607770b-6b21-48f7-f07b-d68f333c8b50"
      },
      "execution_count": 21,
      "outputs": [
        {
          "output_type": "execute_result",
          "data": {
            "text/plain": [
              "<matplotlib.legend.Legend at 0x7cdd281f6fb0>"
            ]
          },
          "metadata": {},
          "execution_count": 21
        },
        {
          "output_type": "display_data",
          "data": {
            "text/plain": [
              "<Figure size 640x480 with 1 Axes>"
            ],
            "image/png": "[encoded data removed]"
          },
          "metadata": {}
        }
      ]
    },
    {
      "cell_type": "code",
      "source": [
        "list(model_0.parameters())"
      ],
      "metadata": {
        "colab": {
          "base_uri": "https://localhost:8080/"
        },
        "id": "_QZc75ECzLcj",
        "outputId": "fed5cef7-7d4f-4fb2-f92b-d54bb54bb7e4"
      },
      "execution_count": 22,
      "outputs": [
        {
          "output_type": "execute_result",
          "data": {
            "text/plain": [
              "[Parameter containing:\n",
              " tensor([0.6996], requires_grad=True),\n",
              " Parameter containing:\n",
              " tensor([0.3006], requires_grad=True)]"
            ]
          },
          "metadata": {},
          "execution_count": 22
        }
      ]
    },
    {
      "cell_type": "code",
      "source": [
        "with torch.inference_mode():\n",
        "  y_preds = model_0(X_test)\n",
        "\n",
        "plot_prediction(prediction=y_preds)"
      ],
      "metadata": {
        "colab": {
          "base_uri": "https://localhost:8080/",
          "height": 599
        },
        "id": "0m4L-8jdzvsS",
        "outputId": "0c0fdb89-96c3-4f46-ca0f-a8bf1653ef7d"
      },
      "execution_count": 23,
      "outputs": [
        {
          "output_type": "display_data",
          "data": {
            "text/plain": [
              "<Figure size 1000x700 with 1 Axes>"
            ],
            "image/png": "[encoded data removed]"
          },
          "metadata": {}
        }
      ]
    },
    {
      "cell_type": "markdown",
      "source": [
        "## Save / Load a model\n",
        "\n",
        "1. torch.save()\n",
        "2. torch.load()\n",
        "3. torch.nn.Module.load_state_dict() - this allows you to load a model's saved state dictionary"
      ],
      "metadata": {
        "id": "pcJQKcOw9dcX"
      }
    },
    {
      "cell_type": "code",
      "source": [
        "from pathlib import Path\n",
        "\n",
        "# Create models directory\n",
        "MODEL_PATH = Path(\"models\")\n",
        "MODEL_PATH.mkdir(parents=True, exist_ok=True)\n",
        "\n",
        "# Create model save path\n",
        "MODEL_NAME = '01_pytorch_workflow_model_0.pth'\n",
        "MODEL_SAVE_PATH = MODEL_PATH / MODEL_NAME\n",
        "\n",
        "# Save the model state dict\n",
        "torch.save(model_0, MODEL_SAVE_PATH)"
      ],
      "metadata": {
        "id": "5bRFFsR89ujz"
      },
      "execution_count": 24,
      "outputs": []
    },
    {
      "cell_type": "code",
      "source": [
        "# To load in a saved model state dict we have to instantiate a new instance of our model class\n",
        "load_model_0 = LinearRegressionModel()\n",
        "\n",
        "load_model_0.load_state_dict(torch.load(f=MODEL_SAVE_PATH).state_dict())"
      ],
      "metadata": {
        "colab": {
          "base_uri": "https://localhost:8080/"
        },
        "id": "aN47E8hNBaZM",
        "outputId": "9eb09d87-c693-4fc7-b1af-86934ec0af32"
      },
      "execution_count": 25,
      "outputs": [
        {
          "output_type": "execute_result",
          "data": {
            "text/plain": [
              "<All keys matched successfully>"
            ]
          },
          "metadata": {},
          "execution_count": 25
        }
      ]
    },
    {
      "cell_type": "code",
      "source": [
        "load_model_0.state_dict()"
      ],
      "metadata": {
        "colab": {
          "base_uri": "https://localhost:8080/"
        },
        "id": "xcZIk1uCDO0O",
        "outputId": "0b67b4eb-885e-4aaa-c794-db9dbfcf2882"
      },
      "execution_count": 26,
      "outputs": [
        {
          "output_type": "execute_result",
          "data": {
            "text/plain": [
              "OrderedDict([('weights', tensor([0.6996])), ('bias', tensor([0.3006]))])"
            ]
          },
          "metadata": {},
          "execution_count": 26
        }
      ]
    },
    {
      "cell_type": "markdown",
      "source": [
        "## Putting it all together"
      ],
      "metadata": {
        "id": "VlRa9WJdEpxf"
      }
    },
    {
      "cell_type": "code",
      "source": [
        "import torch\n",
        "from torch import nn\n",
        "import matplotlib.pyplot as plt"
      ],
      "metadata": {
        "id": "RR3RIc_4EuON"
      },
      "execution_count": 27,
      "outputs": []
    },
    {
      "cell_type": "code",
      "source": [
        "# setup device agnostic code\n",
        "device = \"cuda\" if torch.cuda.is_available() else \"cpu\"\n",
        "print(f\"Using device: {device}\")"
      ],
      "metadata": {
        "colab": {
          "base_uri": "https://localhost:8080/"
        },
        "id": "Q15bGDXGE9T7",
        "outputId": "6b175641-0a2c-4685-a631-7b60afec8541"
      },
      "execution_count": 28,
      "outputs": [
        {
          "output_type": "stream",
          "name": "stdout",
          "text": [
            "Using device: cuda\n"
          ]
        }
      ]
    },
    {
      "cell_type": "markdown",
      "source": [
        "### 1. Data"
      ],
      "metadata": {
        "id": "4Qkvnrs5NvE9"
      }
    },
    {
      "cell_type": "code",
      "source": [
        "weight = 0.7\n",
        "bias = 0.3\n",
        "\n",
        "\n",
        "start = 0\n",
        "end = 1\n",
        "step = 0.02\n",
        "\n",
        "# create features and labels\n",
        "X = torch.arange(start, end, step).unsqueeze(dim=1)\n",
        "y = X * weight + bias\n",
        "\n",
        "train_split = int(len(X) * 0.8)\n",
        "\n",
        "X_train, y_train = X[:train_split], y[:train_split]\n",
        "X_test, y_test = X[train_split:], y[train_split:]\n",
        "len(X_train), len(X_test)"
      ],
      "metadata": {
        "colab": {
          "base_uri": "https://localhost:8080/"
        },
        "id": "e3LmvmEnNw7w",
        "outputId": "03c7927f-950f-4b1a-e016-c373e5520576"
      },
      "execution_count": 29,
      "outputs": [
        {
          "output_type": "execute_result",
          "data": {
            "text/plain": [
              "(40, 10)"
            ]
          },
          "metadata": {},
          "execution_count": 29
        }
      ]
    },
    {
      "cell_type": "code",
      "source": [
        "plot_prediction(X_train, y_train, X_test, y_test)"
      ],
      "metadata": {
        "colab": {
          "base_uri": "https://localhost:8080/",
          "height": 599
        },
        "id": "BklA_A04Ok45",
        "outputId": "df22c873-3de4-41c1-e8c4-eb2bde709dd6"
      },
      "execution_count": 30,
      "outputs": [
        {
          "output_type": "display_data",
          "data": {
            "text/plain": [
              "<Figure size 1000x700 with 1 Axes>"
            ],
            "image/png": "[encoded data removed]"
          },
          "metadata": {}
        }
      ]
    },
    {
      "cell_type": "markdown",
      "source": [
        "### 2. Linear Model"
      ],
      "metadata": {
        "id": "3LVT8AUWO8K6"
      }
    },
    {
      "cell_type": "code",
      "source": [
        "# Create a Linear Model by nn.Module\n",
        "class LinearRegressionModelV2(nn.Module):\n",
        "  def __init__(self):\n",
        "    super().__init__()\n",
        "    self.linear_layer = nn.Linear(in_features=1,\n",
        "                                  out_features=1)\n",
        "  def forward(self, x:torch.Tensor) -> torch.Tensor:\n",
        "    return self.linear_layer(x)\n",
        "\n",
        "torch.manual_seed(100)\n",
        "model_1 = LinearRegressionModelV2()\n",
        "model_1.state_dict()"
      ],
      "metadata": {
        "colab": {
          "base_uri": "https://localhost:8080/"
        },
        "id": "4HQ-6PkuO_pD",
        "outputId": "db9220ce-d7a3-4e97-bb69-3448b6618e84"
      },
      "execution_count": 31,
      "outputs": [
        {
          "output_type": "execute_result",
          "data": {
            "text/plain": [
              "OrderedDict([('linear_layer.weight', tensor([[-0.7767]])),\n",
              "             ('linear_layer.bias', tensor([0.6317]))])"
            ]
          },
          "metadata": {},
          "execution_count": 31
        }
      ]
    },
    {
      "cell_type": "code",
      "source": [
        "model_1.to(device)\n",
        "next(model_1.parameters()).device"
      ],
      "metadata": {
        "colab": {
          "base_uri": "https://localhost:8080/"
        },
        "id": "w-dEPHDbSKSg",
        "outputId": "1de3cb65-c189-4dda-bb3d-edaf9c943f2c"
      },
      "execution_count": 32,
      "outputs": [
        {
          "output_type": "execute_result",
          "data": {
            "text/plain": [
              "device(type='cuda', index=0)"
            ]
          },
          "metadata": {},
          "execution_count": 32
        }
      ]
    },
    {
      "cell_type": "markdown",
      "source": [
        "### 3. Training"
      ],
      "metadata": {
        "id": "B8GO3ih-SbaO"
      }
    },
    {
      "cell_type": "code",
      "source": [
        "loss_fn = nn.L1Loss()\n",
        "optimizer = torch.optim.SGD(params=model_1.parameters(),\n",
        "                            lr=0.01)"
      ],
      "metadata": {
        "id": "XQl-MrIhSgj7"
      },
      "execution_count": 33,
      "outputs": []
    },
    {
      "cell_type": "code",
      "source": [
        "X_train = X_train.to(device)\n",
        "X_test = X_test.to(device)\n",
        "y_train = y_train.to(device)\n",
        "y_test = y_test.to(device) # put the data to the same device as the model\n",
        "\n",
        "torch.manual_seed(100)\n",
        "epochs = 1000\n",
        "epoch_count = []\n",
        "loss_values = []\n",
        "test_loss_values = []\n",
        "\n",
        "\n",
        "for epoch in range(epochs):\n",
        "  model_1.train()\n",
        "\n",
        "  y_preds = model_1(X_train)\n",
        "\n",
        "  loss = loss_fn(y_train, y_preds)\n",
        "\n",
        "  optimizer.zero_grad()\n",
        "\n",
        "  loss.backward()\n",
        "\n",
        "  optimizer.step()\n",
        "\n",
        "  model_1.eval()\n",
        "  with torch.inference_mode():\n",
        "    test_preds = model_1(X_test)\n",
        "    test_loss = loss_fn(y_test, test_preds)\n",
        "\n",
        "  if epoch % 10 == 0:\n",
        "    print(f\"Epoch: {epoch} | Loss: {loss} | Test Loss: {test_loss}\")\n",
        "    epoch_count.append(epoch)\n",
        "    loss_values.append(loss)\n",
        "    test_loss_values.append(test_loss)\n",
        ""
      ],
      "metadata": {
        "colab": {
          "base_uri": "https://localhost:8080/"
        },
        "id": "bClFnuVCTBZM",
        "outputId": "7ef04802-668b-40f9-8fab-c071108a9cc7"
      },
      "execution_count": 34,
      "outputs": [
        {
          "output_type": "stream",
          "name": "stdout",
          "text": [
            "Epoch: 0 | Loss: 0.3457670509815216 | Test Loss: 0.9756677746772766\n",
            "Epoch: 10 | Loss: 0.32158470153808594 | Test Loss: 0.9104726910591125\n",
            "Epoch: 20 | Loss: 0.3033110797405243 | Test Loss: 0.8544949889183044\n",
            "Epoch: 30 | Loss: 0.28965863585472107 | Test Loss: 0.8060306906700134\n",
            "Epoch: 40 | Loss: 0.2791455388069153 | Test Loss: 0.7645705938339233\n",
            "Epoch: 50 | Loss: 0.27070310711860657 | Test Loss: 0.7282671332359314\n",
            "Epoch: 60 | Loss: 0.26408621668815613 | Test Loss: 0.6971742510795593\n",
            "Epoch: 70 | Loss: 0.2585795223712921 | Test Loss: 0.6713628172874451\n",
            "Epoch: 80 | Loss: 0.2535334527492523 | Test Loss: 0.6468715667724609\n",
            "Epoch: 90 | Loss: 0.2492583990097046 | Test Loss: 0.6277335286140442\n",
            "Epoch: 100 | Loss: 0.24525848031044006 | Test Loss: 0.6099337935447693\n",
            "Epoch: 110 | Loss: 0.24125853180885315 | Test Loss: 0.5921339988708496\n",
            "Epoch: 120 | Loss: 0.2375829964876175 | Test Loss: 0.5790802240371704\n",
            "Epoch: 130 | Loss: 0.23409298062324524 | Test Loss: 0.5680603981018066\n",
            "Epoch: 140 | Loss: 0.23060296475887299 | Test Loss: 0.5570406913757324\n",
            "Epoch: 150 | Loss: 0.22711296379566193 | Test Loss: 0.5460209250450134\n",
            "Epoch: 160 | Loss: 0.22362294793128967 | Test Loss: 0.5350010991096497\n",
            "Epoch: 170 | Loss: 0.22013293206691742 | Test Loss: 0.5239813327789307\n",
            "Epoch: 180 | Loss: 0.21664293110370636 | Test Loss: 0.5129615664482117\n",
            "Epoch: 190 | Loss: 0.21315288543701172 | Test Loss: 0.5019418001174927\n",
            "Epoch: 200 | Loss: 0.20966289937496185 | Test Loss: 0.4909220337867737\n",
            "Epoch: 210 | Loss: 0.20619848370552063 | Test Loss: 0.4812759459018707\n",
            "Epoch: 220 | Loss: 0.20276008546352386 | Test Loss: 0.4736904203891754\n",
            "Epoch: 230 | Loss: 0.199331596493721 | Test Loss: 0.4654180705547333\n",
            "Epoch: 240 | Loss: 0.19589482247829437 | Test Loss: 0.45714569091796875\n",
            "Epoch: 250 | Loss: 0.19245807826519012 | Test Loss: 0.44956016540527344\n",
            "Epoch: 260 | Loss: 0.18902964890003204 | Test Loss: 0.44128790497779846\n",
            "Epoch: 270 | Loss: 0.1855912059545517 | Test Loss: 0.4330155551433563\n",
            "Epoch: 280 | Loss: 0.18215613067150116 | Test Loss: 0.4254301190376282\n",
            "Epoch: 290 | Loss: 0.1787264049053192 | Test Loss: 0.4171577990055084\n",
            "Epoch: 300 | Loss: 0.17528758943080902 | Test Loss: 0.40888547897338867\n",
            "Epoch: 310 | Loss: 0.171854168176651 | Test Loss: 0.4013000428676605\n",
            "Epoch: 320 | Loss: 0.16842278838157654 | Test Loss: 0.39302775263786316\n",
            "Epoch: 330 | Loss: 0.16498397290706635 | Test Loss: 0.3847554326057434\n",
            "Epoch: 340 | Loss: 0.16155223548412323 | Test Loss: 0.37716999650001526\n",
            "Epoch: 350 | Loss: 0.15811918675899506 | Test Loss: 0.3688976764678955\n",
            "Epoch: 360 | Loss: 0.15468035638332367 | Test Loss: 0.36062535643577576\n",
            "Epoch: 370 | Loss: 0.15125027298927307 | Test Loss: 0.35303995013237\n",
            "Epoch: 380 | Loss: 0.14781557023525238 | Test Loss: 0.34476763010025024\n",
            "Epoch: 390 | Loss: 0.14437676966190338 | Test Loss: 0.3371821343898773\n",
            "Epoch: 400 | Loss: 0.1409483253955841 | Test Loss: 0.32890984416007996\n",
            "Epoch: 410 | Loss: 0.1375119537115097 | Test Loss: 0.3206375241279602\n",
            "Epoch: 420 | Loss: 0.13407482206821442 | Test Loss: 0.31305205821990967\n",
            "Epoch: 430 | Loss: 0.13064636290073395 | Test Loss: 0.3047797679901123\n",
            "Epoch: 440 | Loss: 0.12720833718776703 | Test Loss: 0.29650744795799255\n",
            "Epoch: 450 | Loss: 0.12377285957336426 | Test Loss: 0.2889220416545868\n",
            "Epoch: 460 | Loss: 0.12034354358911514 | Test Loss: 0.28064972162246704\n",
            "Epoch: 470 | Loss: 0.11690473556518555 | Test Loss: 0.2723774015903473\n",
            "Epoch: 480 | Loss: 0.11347091197967529 | Test Loss: 0.26479196548461914\n",
            "Epoch: 490 | Loss: 0.11003992706537247 | Test Loss: 0.2565196454524994\n",
            "Epoch: 500 | Loss: 0.10660111904144287 | Test Loss: 0.24824734032154083\n",
            "Epoch: 510 | Loss: 0.10316896438598633 | Test Loss: 0.2406618893146515\n",
            "Epoch: 520 | Loss: 0.09973631799221039 | Test Loss: 0.23238956928253174\n",
            "Epoch: 530 | Loss: 0.09629750996828079 | Test Loss: 0.22411727905273438\n",
            "Epoch: 540 | Loss: 0.09286701679229736 | Test Loss: 0.2165316790342331\n",
            "Epoch: 550 | Loss: 0.0894327238202095 | Test Loss: 0.20825918018817902\n",
            "Epoch: 560 | Loss: 0.08599390834569931 | Test Loss: 0.19998662173748016\n",
            "Epoch: 570 | Loss: 0.08256509900093079 | Test Loss: 0.1924009621143341\n",
            "Epoch: 580 | Loss: 0.07912909984588623 | Test Loss: 0.18412841856479645\n",
            "Epoch: 590 | Loss: 0.07569161057472229 | Test Loss: 0.1765427589416504\n",
            "Epoch: 600 | Loss: 0.07226316630840302 | Test Loss: 0.16827021539211273\n",
            "Epoch: 610 | Loss: 0.06882547587156296 | Test Loss: 0.15999768674373627\n",
            "Epoch: 620 | Loss: 0.06538967788219452 | Test Loss: 0.15241201221942902\n",
            "Epoch: 630 | Loss: 0.06196066364645958 | Test Loss: 0.14413948357105255\n",
            "Epoch: 640 | Loss: 0.058521855622529984 | Test Loss: 0.1358669251203537\n",
            "Epoch: 650 | Loss: 0.05508774518966675 | Test Loss: 0.12828128039836884\n",
            "Epoch: 660 | Loss: 0.051657047122716904 | Test Loss: 0.12000872939825058\n",
            "Epoch: 670 | Loss: 0.04821823909878731 | Test Loss: 0.11173620074987411\n",
            "Epoch: 680 | Loss: 0.04478580504655838 | Test Loss: 0.10415052622556686\n",
            "Epoch: 690 | Loss: 0.04135342687368393 | Test Loss: 0.0958779901266098\n",
            "Epoch: 700 | Loss: 0.03791462257504463 | Test Loss: 0.08760543912649155\n",
            "Epoch: 710 | Loss: 0.034483879804611206 | Test Loss: 0.08001977950334549\n",
            "Epoch: 720 | Loss: 0.031049802899360657 | Test Loss: 0.07174725085496902\n",
            "Epoch: 730 | Loss: 0.02761100046336651 | Test Loss: 0.06347469985485077\n",
            "Epoch: 740 | Loss: 0.024181945249438286 | Test Loss: 0.05588904023170471\n",
            "Epoch: 750 | Loss: 0.02074618451297283 | Test Loss: 0.047616489231586456\n",
            "Epoch: 760 | Loss: 0.01730845309793949 | Test Loss: 0.040030837059020996\n",
            "Epoch: 770 | Loss: 0.013880014419555664 | Test Loss: 0.031758297234773636\n",
            "Epoch: 780 | Loss: 0.010442565195262432 | Test Loss: 0.02348574995994568\n",
            "Epoch: 790 | Loss: 0.007006520871073008 | Test Loss: 0.015900099650025368\n",
            "Epoch: 800 | Loss: 0.003577749477699399 | Test Loss: 0.007627552840858698\n",
            "Epoch: 810 | Loss: 0.006553073413670063 | Test Loss: 0.00836827140301466\n",
            "Epoch: 820 | Loss: 0.006553073413670063 | Test Loss: 0.00836827140301466\n",
            "Epoch: 830 | Loss: 0.006553073413670063 | Test Loss: 0.00836827140301466\n",
            "Epoch: 840 | Loss: 0.006553073413670063 | Test Loss: 0.00836827140301466\n",
            "Epoch: 850 | Loss: 0.006553073413670063 | Test Loss: 0.00836827140301466\n",
            "Epoch: 860 | Loss: 0.006553073413670063 | Test Loss: 0.00836827140301466\n",
            "Epoch: 870 | Loss: 0.006553073413670063 | Test Loss: 0.00836827140301466\n",
            "Epoch: 880 | Loss: 0.006553073413670063 | Test Loss: 0.00836827140301466\n",
            "Epoch: 890 | Loss: 0.006553073413670063 | Test Loss: 0.00836827140301466\n",
            "Epoch: 900 | Loss: 0.006553073413670063 | Test Loss: 0.00836827140301466\n",
            "Epoch: 910 | Loss: 0.006553073413670063 | Test Loss: 0.00836827140301466\n",
            "Epoch: 920 | Loss: 0.006553073413670063 | Test Loss: 0.00836827140301466\n",
            "Epoch: 930 | Loss: 0.006553073413670063 | Test Loss: 0.00836827140301466\n",
            "Epoch: 940 | Loss: 0.006553073413670063 | Test Loss: 0.00836827140301466\n",
            "Epoch: 950 | Loss: 0.006553073413670063 | Test Loss: 0.00836827140301466\n",
            "Epoch: 960 | Loss: 0.006553073413670063 | Test Loss: 0.00836827140301466\n",
            "Epoch: 970 | Loss: 0.006553073413670063 | Test Loss: 0.00836827140301466\n",
            "Epoch: 980 | Loss: 0.006553073413670063 | Test Loss: 0.00836827140301466\n",
            "Epoch: 990 | Loss: 0.006553073413670063 | Test Loss: 0.00836827140301466\n"
          ]
        }
      ]
    },
    {
      "cell_type": "code",
      "source": [
        "model_1.state_dict()"
      ],
      "metadata": {
        "colab": {
          "base_uri": "https://localhost:8080/"
        },
        "id": "niHbL_PIVUH9",
        "outputId": "b65f6436-8713-43d7-bae5-145dd0b6f949"
      },
      "execution_count": 35,
      "outputs": [
        {
          "output_type": "execute_result",
          "data": {
            "text/plain": [
              "OrderedDict([('linear_layer.weight', tensor([[0.6971]], device='cuda:0')),\n",
              "             ('linear_layer.bias', tensor([0.3077], device='cuda:0'))])"
            ]
          },
          "metadata": {},
          "execution_count": 35
        }
      ]
    },
    {
      "cell_type": "code",
      "source": [
        "plt.plot(epoch_count, torch.tensor(loss_values).cpu().numpy(), label=\"Train Loss\")\n",
        "plt.plot(epoch_count, torch.tensor(test_loss_values).cpu().numpy(), label=\"Test Loss\")\n",
        "plt.xlabel(\"Epoch\")\n",
        "plt.ylabel(\"Loss\")\n",
        "plt.legend()"
      ],
      "metadata": {
        "colab": {
          "base_uri": "https://localhost:8080/",
          "height": 466
        },
        "id": "NZwcIlmLVwmK",
        "outputId": "06cea39f-655c-4876-f05d-202166965ce0"
      },
      "execution_count": 36,
      "outputs": [
        {
          "output_type": "execute_result",
          "data": {
            "text/plain": [
              "<matplotlib.legend.Legend at 0x7cdd28033d60>"
            ]
          },
          "metadata": {},
          "execution_count": 36
        },
        {
          "output_type": "display_data",
          "data": {
            "text/plain": [
              "<Figure size 640x480 with 1 Axes>"
            ],
            "image/png": "[encoded data removed]"
          },
          "metadata": {}
        }
      ]
    },
    {
      "cell_type": "code",
      "source": [
        "plot_prediction(prediction=model_1(X_test).cpu().detach())"
      ],
      "metadata": {
        "colab": {
          "base_uri": "https://localhost:8080/",
          "height": 599
        },
        "id": "gaNXddXvWq3T",
        "outputId": "016fe77b-7d30-49bf-ea77-8d5a88c05cc9"
      },
      "execution_count": 37,
      "outputs": [
        {
          "output_type": "display_data",
          "data": {
            "text/plain": [
              "<Figure size 1000x700 with 1 Axes>"
            ],
            "image/png": "[encoded data removed]"
          },
          "metadata": {}
        }
      ]
    },
    {
      "cell_type": "code",
      "source": [
        "from pathlib import Path\n",
        "\n",
        "model_path = Path(\"models\")\n",
        "model_path.mkdir(parents=True, exist_ok=True)\n",
        "\n",
        "model_save_path = model_path / \"01_pytorch_workflow_model_1.pth\"\n",
        "\n",
        "torch.save(model_1.state_dict(), model_save_path)"
      ],
      "metadata": {
        "id": "qqxlODYvYQaS"
      },
      "execution_count": 38,
      "outputs": []
    },
    {
      "cell_type": "code",
      "source": [
        "loaded_model_1 = LinearRegressionModelV2()\n",
        "loaded_model_1.load_state_dict(torch.load(model_save_path))"
      ],
      "metadata": {
        "colab": {
          "base_uri": "https://localhost:8080/"
        },
        "id": "o555CRSiZfgm",
        "outputId": "2ee1b58a-280c-4028-d7a1-811b0f633690"
      },
      "execution_count": 39,
      "outputs": [
        {
          "output_type": "execute_result",
          "data": {
            "text/plain": [
              "<All keys matched successfully>"
            ]
          },
          "metadata": {},
          "execution_count": 39
        }
      ]
    },
    {
      "cell_type": "code",
      "source": [
        "loaded_model_1.to(device)"
      ],
      "metadata": {
        "colab": {
          "base_uri": "https://localhost:8080/"
        },
        "id": "fItLrnZXan1e",
        "outputId": "fd7da86b-02ed-48d0-ca65-2c7d34bc4b10"
      },
      "execution_count": 40,
      "outputs": [
        {
          "output_type": "execute_result",
          "data": {
            "text/plain": [
              "LinearRegressionModelV2(\n",
              "  (linear_layer): Linear(in_features=1, out_features=1, bias=True)\n",
              ")"
            ]
          },
          "metadata": {},
          "execution_count": 40
        }
      ]
    },
    {
      "cell_type": "code",
      "source": [
        "loaded_model_1.eval()\n",
        "model_1.eval()\n",
        "with torch.inference_mode():\n",
        "  preds = loaded_model_1(X_test)\n",
        "  ori_preds = model_1(X_test)\n",
        "\n",
        "preds == ori_preds"
      ],
      "metadata": {
        "colab": {
          "base_uri": "https://localhost:8080/"
        },
        "id": "MnlhRzrnw0e7",
        "outputId": "c4f7356c-6f0e-4b85-91aa-df4ec9b7dc51"
      },
      "execution_count": 43,
      "outputs": [
        {
          "output_type": "execute_result",
          "data": {
            "text/plain": [
              "tensor([[True],\n",
              "        [True],\n",
              "        [True],\n",
              "        [True],\n",
              "        [True],\n",
              "        [True],\n",
              "        [True],\n",
              "        [True],\n",
              "        [True],\n",
              "        [True]], device='cuda:0')"
            ]
          },
          "metadata": {},
          "execution_count": 43
        }
      ]
    }
  ]
}